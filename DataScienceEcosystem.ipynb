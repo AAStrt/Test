{
 "cells": [
  {
   "cell_type": "markdown",
   "id": "c05e355b-fd01-42a2-a61d-2dfbf59aec54",
   "metadata": {},
   "source": [
    "# Data Science Tools and Ecosystem #"
   ]
  },
  {
   "cell_type": "markdown",
   "id": "f599d312-9a18-4b9d-9648-d433ab3d69be",
   "metadata": {},
   "source": [
    "In this notebook, Data Science Tools and Ecosystem are summarized"
   ]
  },
  {
   "cell_type": "markdown",
   "id": "ea4c9e0a-d30b-42ad-96c2-b3cb5aa3c9fa",
   "metadata": {},
   "source": [
    "Some of the popular languages that Data Scientists use are:\n",
    "    1. R\n",
    "    2. Python\n",
    "    3. MATLAB\n",
    "    4. SQL\n",
    "    5. JAVA"
   ]
  },
  {
   "cell_type": "markdown",
   "id": "4ac4c462-aff2-46f9-b173-4d17635c0ad8",
   "metadata": {},
   "source": [
    "Some of the commonly used libraries used by Data Scientists include:\n",
    "\n",
    "    1. Tensorflow \n",
    "    2. scikit\n",
    "    3. Pytorch  \n",
    "    4. Numpy\n",
    "    5. Keras\n",
    "    "
   ]
  },
  {
   "cell_type": "markdown",
   "id": "8ff149dd-4918-40e2-b561-dbb09834d590",
   "metadata": {},
   "source": [
    "|Data Science Tools|\n",
    "|---|\n",
    "|RStudio|\n",
    "|Apache Spark|\n",
    "|Tensorflow|\n"
   ]
  },
  {
   "cell_type": "markdown",
   "id": "f6f1cb40-74f0-40ab-a636-cd60317c1f35",
   "metadata": {},
   "source": [
    "### Below are a few examples of evaluating arithmetic expressions in Python ###"
   ]
  },
  {
   "cell_type": "code",
   "execution_count": 4,
   "id": "0436b76d-c103-49bf-b4cb-f7c200f98f28",
   "metadata": {},
   "outputs": [
    {
     "data": {
      "text/plain": [
       "17"
      ]
     },
     "execution_count": 4,
     "metadata": {},
     "output_type": "execute_result"
    }
   ],
   "source": [
    "#This a simple arithmetic expression to mutiply then add integers.#\n",
    "(3*4)+5"
   ]
  },
  {
   "cell_type": "code",
   "execution_count": 7,
   "id": "9c09e50e-ff6f-438b-aa43-420cea8810b0",
   "metadata": {},
   "outputs": [
    {
     "data": {
      "text/plain": [
       "3.3333333333333335"
      ]
     },
     "execution_count": 7,
     "metadata": {},
     "output_type": "execute_result"
    }
   ],
   "source": [
    "#This will convert 200 minutes to hours by diving by 60#\n",
    "m = 200\n",
    "h = m/60\n",
    "h"
   ]
  },
  {
   "cell_type": "markdown",
   "id": "5383ec5b-501c-4b7e-812d-5860d53a5868",
   "metadata": {},
   "source": [
    "**Objective:**\n",
    "List popular languages for Data Science\n",
    "- Python\n",
    "- R\n",
    "- Julia\n",
    "- Javascript\n",
    "- Scala"
   ]
  },
  {
   "cell_type": "markdown",
   "id": "47386c30-4cb2-41b1-b037-5f927dd22cd7",
   "metadata": {},
   "source": [
    "## Adrija ##"
   ]
  },
  {
   "cell_type": "code",
   "execution_count": null,
   "id": "4a852c0c-94d2-41b3-9ee0-8c2a6ee2cdc6",
   "metadata": {},
   "outputs": [],
   "source": []
  }
 ],
 "metadata": {
  "kernelspec": {
   "display_name": "anaconda-2022.05-py39",
   "language": "python",
   "name": "conda-env-anaconda-2022.05-py39-py"
  },
  "language_info": {
   "codemirror_mode": {
    "name": "ipython",
    "version": 3
   },
   "file_extension": ".py",
   "mimetype": "text/x-python",
   "name": "python",
   "nbconvert_exporter": "python",
   "pygments_lexer": "ipython3",
   "version": "3.9.12"
  }
 },
 "nbformat": 4,
 "nbformat_minor": 5
}
